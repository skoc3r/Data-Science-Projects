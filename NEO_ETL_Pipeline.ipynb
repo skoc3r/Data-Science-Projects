{
  "nbformat": 4,
  "nbformat_minor": 0,
  "metadata": {
    "colab": {
      "provenance": []
    },
    "kernelspec": {
      "name": "python3",
      "display_name": "Python 3"
    },
    "language_info": {
      "name": "python"
    }
  },
  "cells": [
    {
      "cell_type": "markdown",
      "source": [
        "Firstly, we install the necessary components for pyspark"
      ],
      "metadata": {
        "id": "nCsixVP2SLl0"
      }
    },
    {
      "cell_type": "code",
      "source": [
        "!pip install -q findspark\n",
        "!pip install pyspark\n",
        "!pip install py4j\n",
        "!pip install --upgrade py4j"
      ],
      "metadata": {
        "colab": {
          "base_uri": "https://localhost:8080/"
        },
        "id": "vxhJmGDY8pk7",
        "outputId": "42d729f2-94af-4f24-a08e-876a1fe27511"
      },
      "execution_count": 1,
      "outputs": [
        {
          "output_type": "stream",
          "name": "stdout",
          "text": [
            "Requirement already satisfied: pyspark in /usr/local/lib/python3.11/dist-packages (3.5.4)\n",
            "Requirement already satisfied: py4j==0.10.9.7 in /usr/local/lib/python3.11/dist-packages (from pyspark) (0.10.9.7)\n",
            "Requirement already satisfied: py4j in /usr/local/lib/python3.11/dist-packages (0.10.9.7)\n",
            "Requirement already satisfied: py4j in /usr/local/lib/python3.11/dist-packages (0.10.9.7)\n",
            "Collecting py4j\n",
            "  Using cached py4j-0.10.9.9-py2.py3-none-any.whl.metadata (1.3 kB)\n",
            "Using cached py4j-0.10.9.9-py2.py3-none-any.whl (203 kB)\n",
            "Installing collected packages: py4j\n",
            "  Attempting uninstall: py4j\n",
            "    Found existing installation: py4j 0.10.9.7\n",
            "    Uninstalling py4j-0.10.9.7:\n",
            "      Successfully uninstalled py4j-0.10.9.7\n",
            "\u001b[31mERROR: pip's dependency resolver does not currently take into account all the packages that are installed. This behaviour is the source of the following dependency conflicts.\n",
            "pyspark 3.5.4 requires py4j==0.10.9.7, but you have py4j 0.10.9.9 which is incompatible.\u001b[0m\u001b[31m\n",
            "\u001b[0mSuccessfully installed py4j-0.10.9.9\n"
          ]
        }
      ]
    },
    {
      "cell_type": "markdown",
      "source": [
        "import the necessary libraries"
      ],
      "metadata": {
        "id": "rWfB4JzkSVWB"
      }
    },
    {
      "cell_type": "code",
      "execution_count": 2,
      "metadata": {
        "id": "jKYf_IUvBLZ6"
      },
      "outputs": [],
      "source": [
        "import json, requests\n",
        "import pandas as pd\n",
        "import matplotlib.pyplot as plt\n",
        "from pyspark.sql import SparkSession\n",
        "from pyspark.sql.functions import explode, col, array, struct, lit, get_json_object\n",
        "import json\n",
        "import findspark"
      ]
    },
    {
      "cell_type": "markdown",
      "source": [
        "set up variables for the GET URL request"
      ],
      "metadata": {
        "id": "Nrq6qSorSZO_"
      }
    },
    {
      "cell_type": "code",
      "source": [
        "API_KEY = '14gfkN3hD26VRnFO5CXk3WpUTXKETxdSdY4FjMEL'\n",
        "START_DATE = '2024-12-01'\n",
        "END_DATE = '2024-12-5'\n",
        "url = 'https://api.nasa.gov/neo/rest/v1/feed?start_date={}&end_date={}&api_key={}'.format(START_DATE, END_DATE, API_KEY)"
      ],
      "metadata": {
        "id": "JE5lya_EBxT5"
      },
      "execution_count": 3,
      "outputs": []
    },
    {
      "cell_type": "markdown",
      "source": [
        "save the received json file to 'result' (the first entry is also displayed)"
      ],
      "metadata": {
        "id": "sC-oczmbSkLr"
      }
    },
    {
      "cell_type": "code",
      "source": [
        "findspark.init()\n",
        "findspark.find()\n",
        "response = requests.get(url)\n",
        "result = response.json()\n",
        "\n",
        "#example entry from json file\n",
        "result['near_earth_objects']['2024-12-01'][0]"
      ],
      "metadata": {
        "id": "dywMJGBGDDV5",
        "colab": {
          "base_uri": "https://localhost:8080/"
        },
        "outputId": "a78c0c4b-4c80-4f07-ec5b-cd51332d97ad"
      },
      "execution_count": 10,
      "outputs": [
        {
          "output_type": "execute_result",
          "data": {
            "text/plain": [
              "{'links': {'self': 'http://api.nasa.gov/neo/rest/v1/neo/54065916?api_key=14gfkN3hD26VRnFO5CXk3WpUTXKETxdSdY4FjMEL'},\n",
              " 'id': '54065916',\n",
              " 'neo_reference_id': '54065916',\n",
              " 'name': '(2020 TH6)',\n",
              " 'nasa_jpl_url': 'https://ssd.jpl.nasa.gov/tools/sbdb_lookup.html#/?sstr=54065916',\n",
              " 'absolute_magnitude_h': 28.8,\n",
              " 'estimated_diameter': {'kilometers': {'estimated_diameter_min': 0.0046190746,\n",
              "   'estimated_diameter_max': 0.0103285648},\n",
              "  'meters': {'estimated_diameter_min': 4.6190746028,\n",
              "   'estimated_diameter_max': 10.328564805},\n",
              "  'miles': {'estimated_diameter_min': 0.002870159,\n",
              "   'estimated_diameter_max': 0.0064178706},\n",
              "  'feet': {'estimated_diameter_min': 15.1544447199,\n",
              "   'estimated_diameter_max': 33.886368555}},\n",
              " 'is_potentially_hazardous_asteroid': False,\n",
              " 'close_approach_data': [{'close_approach_date': '2024-12-01',\n",
              "   'close_approach_date_full': '2024-Dec-01 22:55',\n",
              "   'epoch_date_close_approach': 1733093700000,\n",
              "   'relative_velocity': {'kilometers_per_second': '4.5328253058',\n",
              "    'kilometers_per_hour': '16318.1711009965',\n",
              "    'miles_per_hour': '10139.4769266164'},\n",
              "   'miss_distance': {'astronomical': '0.1560773159',\n",
              "    'lunar': '60.7140758851',\n",
              "    'kilometers': '23348834.013957133',\n",
              "    'miles': '14508292.6978011154'},\n",
              "   'orbiting_body': 'Earth'}],\n",
              " 'is_sentry_object': False}"
            ]
          },
          "metadata": {},
          "execution_count": 10
        }
      ]
    },
    {
      "cell_type": "markdown",
      "source": [
        "We intialize a pyspark session"
      ],
      "metadata": {
        "id": "8Swl8inCS0fS"
      }
    },
    {
      "cell_type": "code",
      "source": [
        "spark= SparkSession \\\n",
        "       .builder \\\n",
        "       .appName(\"asteroid data\") \\\n",
        "       .getOrCreate()"
      ],
      "metadata": {
        "id": "dv941UvZwf5p"
      },
      "execution_count": 5,
      "outputs": []
    },
    {
      "cell_type": "markdown",
      "source": [
        "Now we create a loop that extracts the NEO's id, name, and miss distance in miles. Afterwards, it saved to Pyspark dataframe."
      ],
      "metadata": {
        "id": "HJiXgHeqTMBv"
      }
    },
    {
      "cell_type": "code",
      "source": [
        "neo_list = []\n",
        "for date, neos in result['near_earth_objects'].items():\n",
        "    for neo in neos:\n",
        "        miss_distance_miles = neo['close_approach_data'][0]['miss_distance']['miles']\n",
        "        neo_list.append((neo['id'], neo['name'], miss_distance_miles))\n",
        "\n",
        "\n",
        "df = spark.createDataFrame(neo_list, [\"id\", \"name\", \"miss_distance_miles\"])\n",
        "\n",
        "\n",
        "df.show()"
      ],
      "metadata": {
        "colab": {
          "base_uri": "https://localhost:8080/"
        },
        "id": "YRoBT1f0-KCP",
        "outputId": "ebce1a25-db5b-4608-fcf9-6717892ab3ba"
      },
      "execution_count": 6,
      "outputs": [
        {
          "output_type": "stream",
          "name": "stdout",
          "text": [
            "+--------+-----------+-------------------+\n",
            "|      id|       name|miss_distance_miles|\n",
            "+--------+-----------+-------------------+\n",
            "| 3442841|(2008 YS27)| 10813531.994023308|\n",
            "| 3460325| (2009 KY1)|14046699.5700268952|\n",
            "| 3656409|(2014 AA53)|17402930.8542236912|\n",
            "| 3789470| (2017 WL1)| 10202285.614528609|\n",
            "|54213628| (2021 UQ4)| 32733412.069450866|\n",
            "|54225710| (2021 WA5)|  2335547.532105324|\n",
            "|54229471| (2021 XN4)|   4189209.09836505|\n",
            "|54340322| (2023 BJ7)|15844787.7028767138|\n",
            "|54354403| (2023 GJ2)| 43384262.804562119|\n",
            "|54500031| (2024 WB1)| 4553595.0398739572|\n",
            "|54500315| (2024 WT1)|  5691660.437083179|\n",
            "|54500320| (2024 WY1)| 7395539.1619332816|\n",
            "|54501473| (2024 WG5)| 2842485.4873778878|\n",
            "|54502663|  (2024 XO)| 12504393.271461396|\n",
            "|54502873| (2024 XD1)| 14284244.348958591|\n",
            "|54503173|(2024 WA22)| 1348024.2951026172|\n",
            "|54503203| (2024 XW3)| 3980841.9849891792|\n",
            "|54503839| (2024 XV4)| 11480895.049953759|\n",
            "|54506447|(2024 XO15)| 1653294.8244653736|\n",
            "|54506634|(2024 XB17)|  8552903.355711259|\n",
            "+--------+-----------+-------------------+\n",
            "only showing top 20 rows\n",
            "\n"
          ]
        }
      ]
    }
  ]
}